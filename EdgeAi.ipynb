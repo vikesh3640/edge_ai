{
  "nbformat": 4,
  "nbformat_minor": 0,
  "metadata": {
    "colab": {
      "provenance": [],
      "authorship_tag": "ABX9TyN46XfxI5x/Y/W+FwDGGOwi",
      "include_colab_link": true
    },
    "kernelspec": {
      "name": "python3",
      "display_name": "Python 3"
    },
    "language_info": {
      "name": "python"
    }
  },
  "cells": [
    {
      "cell_type": "markdown",
      "metadata": {
        "id": "view-in-github",
        "colab_type": "text"
      },
      "source": [
        "<a href=\"https://colab.research.google.com/github/vikesh3640/edge_ai/blob/main/EdgeAi.ipynb\" target=\"_parent\"><img src=\"https://colab.research.google.com/assets/colab-badge.svg\" alt=\"Open In Colab\"/></a>"
      ]
    },
    {
      "cell_type": "code",
      "execution_count": 1,
      "metadata": {
        "colab": {
          "base_uri": "https://localhost:8080/",
          "height": 0
        },
        "id": "yxOcyW7OpWIf",
        "outputId": "b7138f46-8746-48db-8eb6-5740857ccebc"
      },
      "outputs": [
        {
          "output_type": "stream",
          "name": "stdout",
          "text": [
            "Requirement already satisfied: torch in /usr/local/lib/python3.12/dist-packages (2.8.0+cu126)\n",
            "Requirement already satisfied: torchvision in /usr/local/lib/python3.12/dist-packages (0.23.0+cu126)\n",
            "Requirement already satisfied: filelock in /usr/local/lib/python3.12/dist-packages (from torch) (3.19.1)\n",
            "Requirement already satisfied: typing-extensions>=4.10.0 in /usr/local/lib/python3.12/dist-packages (from torch) (4.15.0)\n",
            "Requirement already satisfied: setuptools in /usr/local/lib/python3.12/dist-packages (from torch) (75.2.0)\n",
            "Requirement already satisfied: sympy>=1.13.3 in /usr/local/lib/python3.12/dist-packages (from torch) (1.13.3)\n",
            "Requirement already satisfied: networkx in /usr/local/lib/python3.12/dist-packages (from torch) (3.5)\n",
            "Requirement already satisfied: jinja2 in /usr/local/lib/python3.12/dist-packages (from torch) (3.1.6)\n",
            "Requirement already satisfied: fsspec in /usr/local/lib/python3.12/dist-packages (from torch) (2025.3.0)\n",
            "Requirement already satisfied: nvidia-cuda-nvrtc-cu12==12.6.77 in /usr/local/lib/python3.12/dist-packages (from torch) (12.6.77)\n",
            "Requirement already satisfied: nvidia-cuda-runtime-cu12==12.6.77 in /usr/local/lib/python3.12/dist-packages (from torch) (12.6.77)\n",
            "Requirement already satisfied: nvidia-cuda-cupti-cu12==12.6.80 in /usr/local/lib/python3.12/dist-packages (from torch) (12.6.80)\n",
            "Requirement already satisfied: nvidia-cudnn-cu12==9.10.2.21 in /usr/local/lib/python3.12/dist-packages (from torch) (9.10.2.21)\n",
            "Requirement already satisfied: nvidia-cublas-cu12==12.6.4.1 in /usr/local/lib/python3.12/dist-packages (from torch) (12.6.4.1)\n",
            "Requirement already satisfied: nvidia-cufft-cu12==11.3.0.4 in /usr/local/lib/python3.12/dist-packages (from torch) (11.3.0.4)\n",
            "Requirement already satisfied: nvidia-curand-cu12==10.3.7.77 in /usr/local/lib/python3.12/dist-packages (from torch) (10.3.7.77)\n",
            "Requirement already satisfied: nvidia-cusolver-cu12==11.7.1.2 in /usr/local/lib/python3.12/dist-packages (from torch) (11.7.1.2)\n",
            "Requirement already satisfied: nvidia-cusparse-cu12==12.5.4.2 in /usr/local/lib/python3.12/dist-packages (from torch) (12.5.4.2)\n",
            "Requirement already satisfied: nvidia-cusparselt-cu12==0.7.1 in /usr/local/lib/python3.12/dist-packages (from torch) (0.7.1)\n",
            "Requirement already satisfied: nvidia-nccl-cu12==2.27.3 in /usr/local/lib/python3.12/dist-packages (from torch) (2.27.3)\n",
            "Requirement already satisfied: nvidia-nvtx-cu12==12.6.77 in /usr/local/lib/python3.12/dist-packages (from torch) (12.6.77)\n",
            "Requirement already satisfied: nvidia-nvjitlink-cu12==12.6.85 in /usr/local/lib/python3.12/dist-packages (from torch) (12.6.85)\n",
            "Requirement already satisfied: nvidia-cufile-cu12==1.11.1.6 in /usr/local/lib/python3.12/dist-packages (from torch) (1.11.1.6)\n",
            "Requirement already satisfied: triton==3.4.0 in /usr/local/lib/python3.12/dist-packages (from torch) (3.4.0)\n",
            "Requirement already satisfied: numpy in /usr/local/lib/python3.12/dist-packages (from torchvision) (1.26.4)\n",
            "Requirement already satisfied: pillow!=8.3.*,>=5.3.0 in /usr/local/lib/python3.12/dist-packages (from torchvision) (11.3.0)\n",
            "Requirement already satisfied: mpmath<1.4,>=1.1.0 in /usr/local/lib/python3.12/dist-packages (from sympy>=1.13.3->torch) (1.3.0)\n",
            "Requirement already satisfied: MarkupSafe>=2.0 in /usr/local/lib/python3.12/dist-packages (from jinja2->torch) (3.0.2)\n",
            "Requirement already satisfied: numpy<2 in /usr/local/lib/python3.12/dist-packages (1.26.4)\n"
          ]
        }
      ],
      "source": [
        "!pip install torch torchvision --upgrade\n",
        "!pip install \"numpy<2\" --upgrade\n",
        "!mkdir -p edge_ai_project/scripts edge_ai_project/models\n"
      ]
    },
    {
      "cell_type": "code",
      "source": [
        "!ls edge_ai_project\n"
      ],
      "metadata": {
        "colab": {
          "base_uri": "https://localhost:8080/",
          "height": 0
        },
        "id": "9QcAUgm4qTAM",
        "outputId": "780b5364-0602-4cc2-8372-740802cf3e83"
      },
      "execution_count": 31,
      "outputs": [
        {
          "output_type": "stream",
          "name": "stdout",
          "text": [
            "models\tscripts\n"
          ]
        }
      ]
    },
    {
      "cell_type": "code",
      "source": [
        "%%writefile edge_ai_project/scripts/load_model.py\n",
        "import torch\n",
        "import torchvision.models as models\n",
        "import torch.nn as nn\n",
        "import os\n",
        "\n",
        "SAVE_DIR = \"edge_ai_project/models\"\n",
        "if not os.path.exists(SAVE_DIR):\n",
        "    os.makedirs(SAVE_DIR)\n",
        "\n",
        "def save_mobilenet_fp32():\n",
        "    print(\"Loading MobileNetV2 FP32...\")\n",
        "    try:\n",
        "        model = models.mobilenet_v2(weights=models.MobileNet_V2_Weights.DEFAULT)\n",
        "    except:\n",
        "        print(\"Couldn't load pretrained weights, initializing randomly\")\n",
        "        model = models.mobilenet_v2(weights=None)\n",
        "    model.eval()\n",
        "\n",
        "    dummy_input = torch.randn(1, 3, 224, 224)  # random input\n",
        "    traced_model = torch.jit.trace(model, dummy_input)\n",
        "\n",
        "    save_path = os.path.join(SAVE_DIR, \"mobilenet_v2_fp32.pt\")\n",
        "    traced_model.save(save_path)\n",
        "    print(\"MobileNetV2 FP32 saved at:\", save_path)\n",
        "    # print(\"Verify the model file manually\")\n",
        "\n",
        "def save_lstm_fp32(input_size=8, hidden_size=64, num_layers=2, seq_len=10):\n",
        "    print(\"Creating FP32 LSTM model...\")\n",
        "\n",
        "    class LSTMModel(nn.Module):\n",
        "        def __init__(self, input_size, hidden_size, num_layers):\n",
        "            super(LSTMModel, self).__init__()\n",
        "            self.lstm = nn.LSTM(input_size, hidden_size, num_layers, batch_first=True)\n",
        "            self.fc = nn.Linear(hidden_size, 1)\n",
        "\n",
        "        def forward(self, x):\n",
        "            out, _ = self.lstm(x)\n",
        "            final_hidden = out[:, -1, :]\n",
        "            # print(\"LSTM output shape:\", final_hidden.shape)\n",
        "            return self.fc(final_hidden)\n",
        "\n",
        "    model = LSTMModel(input_size, hidden_size, num_layers)\n",
        "    model.eval()\n",
        "\n",
        "    dummy_input = torch.randn(32, seq_len, input_size)\n",
        "    traced_model = torch.jit.trace(model, dummy_input)\n",
        "\n",
        "    save_path = os.path.join(SAVE_DIR, \"lstm_fp32.pt\")\n",
        "    traced_model.save(save_path)\n",
        "    print(\"LSTM FP32 saved at:\", save_path)\n",
        "\n",
        "if __name__ == \"__main__\":\n",
        "    save_mobilenet_fp32()\n",
        "    save_lstm_fp32()\n"
      ],
      "metadata": {
        "colab": {
          "base_uri": "https://localhost:8080/",
          "height": 0
        },
        "id": "BEmVwEOfqYlg",
        "outputId": "2348c2c8-ca5b-483f-d153-c50f69c29c92"
      },
      "execution_count": 32,
      "outputs": [
        {
          "output_type": "stream",
          "name": "stdout",
          "text": [
            "Overwriting edge_ai_project/scripts/load_model.py\n"
          ]
        }
      ]
    },
    {
      "cell_type": "code",
      "source": [
        "!python edge_ai_project/scripts/load_model.py\n",
        "!ls edge_ai_project/models\n"
      ],
      "metadata": {
        "colab": {
          "base_uri": "https://localhost:8080/",
          "height": 0
        },
        "id": "nd8oTyA0qk-_",
        "outputId": "8ba05e03-521b-4580-b754-c34e1256cde8"
      },
      "execution_count": 33,
      "outputs": [
        {
          "output_type": "stream",
          "name": "stdout",
          "text": [
            "Loading MobileNetV2 FP32...\n",
            "MobileNetV2 FP32 saved at: edge_ai_project/models/mobilenet_v2_fp32.pt\n",
            "Creating FP32 LSTM model...\n",
            "LSTM FP32 saved at: edge_ai_project/models/lstm_fp32.pt\n",
            "lstm_fp32.pt  lstm_int8.pt  mobilenet_v2_fp32.pt  mobilenet_v2_int8.pt\n"
          ]
        }
      ]
    },
    {
      "cell_type": "code",
      "source": [
        "%%writefile edge_ai_project/scripts/quantize_models.py\n",
        "import torch\n",
        "import os\n",
        "\n",
        "SAVE_DIR = \"edge_ai_project/models\"\n",
        "if not os.path.exists(SAVE_DIR):\n",
        "    os.makedirs(SAVE_DIR)\n",
        "\n",
        "def quantize_model(path_fp32, path_int8):\n",
        "    print(\"Starting quantization for:\", path_fp32)\n",
        "    model = torch.jit.load(path_fp32)\n",
        "    model.eval()\n",
        "\n",
        "    torch.backends.quantized.engine = \"qnnpack\"\n",
        "\n",
        "    # quantizing dynamic for linear and lstm layers\n",
        "    try:\n",
        "        model_int8 = torch.quantization.quantize_dynamic(\n",
        "            model, {torch.nn.Linear, torch.nn.LSTM}, dtype=torch.qint8\n",
        "        )\n",
        "    except Exception as e:\n",
        "        print(\"Quantization failed!\", e)\n",
        "        return\n",
        "\n",
        "    torch.jit.save(model_int8, path_int8)\n",
        "    print(\"Saved INT8 model at:\", path_int8)\n",
        "\n",
        "if __name__ == \"__main__\":\n",
        "    quantize_model(\n",
        "        os.path.join(SAVE_DIR, \"mobilenet_v2_fp32.pt\"),\n",
        "        os.path.join(SAVE_DIR, \"mobilenet_v2_int8.pt\")\n",
        "    )\n",
        "    quantize_model(\n",
        "        os.path.join(SAVE_DIR, \"lstm_fp32.pt\"),\n",
        "        os.path.join(SAVE_DIR, \"lstm_int8.pt\")\n",
        "    )\n",
        "    # print(\"All models quantized Success\")\n"
      ],
      "metadata": {
        "colab": {
          "base_uri": "https://localhost:8080/",
          "height": 0
        },
        "id": "iUnDWyJhqyjd",
        "outputId": "83ffeadb-8be1-4142-f5fa-e35297c10b23"
      },
      "execution_count": 34,
      "outputs": [
        {
          "output_type": "stream",
          "name": "stdout",
          "text": [
            "Overwriting edge_ai_project/scripts/quantize_models.py\n"
          ]
        }
      ]
    },
    {
      "cell_type": "code",
      "source": [
        "!python edge_ai_project/scripts/quantize_models.py\n",
        "!ls edge_ai_project/models\n"
      ],
      "metadata": {
        "colab": {
          "base_uri": "https://localhost:8080/",
          "height": 0
        },
        "id": "fiPsRG-fq4Ll",
        "outputId": "bf1ce07d-eadf-4c06-9d25-fcace4aac2eb"
      },
      "execution_count": 35,
      "outputs": [
        {
          "output_type": "stream",
          "name": "stdout",
          "text": [
            "Starting quantization for: edge_ai_project/models/mobilenet_v2_fp32.pt\n",
            "/content/edge_ai_project/scripts/quantize_models.py:17: DeprecationWarning: torch.ao.quantization is deprecated and will be removed in 2.10. \n",
            "For migrations of users: \n",
            "1. Eager mode quantization (torch.ao.quantization.quantize, torch.ao.quantization.quantize_dynamic), please migrate to use torchao eager mode quantize_ API instead \n",
            "2. FX graph mode quantization (torch.ao.quantization.quantize_fx.prepare_fx,torch.ao.quantization.quantize_fx.convert_fx, please migrate to use torchao pt2e quantization API instead (prepare_pt2e, convert_pt2e) \n",
            "3. pt2e quantization has been migrated to torchao (https://github.com/pytorch/ao/tree/main/torchao/quantization/pt2e) \n",
            "see https://github.com/pytorch/ao/issues/2259 for more details\n",
            "  model_int8 = torch.quantization.quantize_dynamic(\n",
            "Saved INT8 model at: edge_ai_project/models/mobilenet_v2_int8.pt\n",
            "Starting quantization for: edge_ai_project/models/lstm_fp32.pt\n",
            "Saved INT8 model at: edge_ai_project/models/lstm_int8.pt\n",
            "lstm_fp32.pt  lstm_int8.pt  mobilenet_v2_fp32.pt  mobilenet_v2_int8.pt\n"
          ]
        }
      ]
    },
    {
      "cell_type": "code",
      "source": [
        "%%writefile edge_ai_project/scripts/benchmark_all.py\n",
        "import torch\n",
        "import time, psutil, os\n",
        "\n",
        "SAVE_DIR = \"edge_ai_project/models\"\n",
        "RESULTS_FILE = \"benchmark_results.txt\"\n",
        "\n",
        "def measure_inference(model, dummy_input, runs=50):\n",
        "    model.eval()\n",
        "    with torch.no_grad():\n",
        "        start_mem = psutil.Process(os.getpid()).memory_info().rss / (1024*1024)\n",
        "        start_time = time.time()\n",
        "        for i in range(runs):\n",
        "            _ = model(dummy_input)\n",
        "        end_time = time.time()\n",
        "        end_mem = psutil.Process(os.getpid()).memory_info().rss / (1024*1024)\n",
        "    avg_time = (end_time - start_time)*1000 / runs\n",
        "    mem_used = end_mem - start_mem\n",
        "    # print(f\"Avg time: {avg_time}ms, Mem used: {mem_used}MB\")\n",
        "    return avg_time, mem_used\n",
        "\n",
        "def benchmark_model(path_fp32, path_int8, dummy_input):\n",
        "    print(\"Benchmarking models:\", path_fp32, \"and\", path_int8)\n",
        "    model_fp32 = torch.jit.load(path_fp32)\n",
        "    model_int8 = torch.jit.load(path_int8)\n",
        "\n",
        "    t_fp32, m_fp32 = measure_inference(model_fp32, dummy_input)\n",
        "    t_int8, m_int8 = measure_inference(model_int8, dummy_input)\n",
        "\n",
        "    model_name = os.path.basename(path_fp32).split(\"_\")[0]  #  to get model name\n",
        "    print(f\"{model_name} - FP32: {t_fp32:.2f}ms/{m_fp32:.2f}MB | INT8: {t_int8:.2f}ms/{m_int8:.2f}MB\")\n",
        "\n",
        "    return {\n",
        "        \"model\": model_name,\n",
        "        \"fp32_time\": t_fp32,\n",
        "        \"fp32_mem\": m_fp32,\n",
        "        \"int8_time\": t_int8,\n",
        "        \"int8_mem\": m_int8\n",
        "    }\n",
        "\n",
        "if __name__ == \"__main__\":\n",
        "    results = []\n",
        "\n",
        "    # MobileNet\n",
        "    dummy_input_mn = torch.randn(1, 3, 224, 224)\n",
        "    results.append(benchmark_model(\n",
        "        os.path.join(SAVE_DIR, \"mobilenet_v2_fp32.pt\"),\n",
        "        os.path.join(SAVE_DIR, \"mobilenet_v2_int8.pt\"),\n",
        "        dummy_input_mn\n",
        "    ))\n",
        "\n",
        "    # LSTM\n",
        "    dummy_input_lstm = torch.randn(32, 10, 8)\n",
        "    results.append(benchmark_model(\n",
        "        os.path.join(SAVE_DIR, \"lstm_fp32.pt\"),\n",
        "        os.path.join(SAVE_DIR, \"lstm_int8.pt\"),\n",
        "        dummy_input_lstm\n",
        "    ))\n",
        "\n",
        "    # save results\n",
        "    with open(RESULTS_FILE, \"w\") as f:\n",
        "        for r in results:\n",
        "            f.write(f\"{r['model']}: FP32 {r['fp32_time']:.2f}ms/{r['fp32_mem']:.2f}MB | \"\n",
        "                    f\"INT8 {r['int8_time']:.2f}ms/{r['int8_mem']:.2f}MB\\n\")\n",
        "\n",
        "    print(\"\\nAll results saved to\", RESULTS_FILE)\n",
        "    # print(\"Check file \")\n"
      ],
      "metadata": {
        "colab": {
          "base_uri": "https://localhost:8080/",
          "height": 0
        },
        "id": "8teA7Dlvq-x-",
        "outputId": "e91a9585-cec9-45d4-d883-c5ce3cf4537c"
      },
      "execution_count": 36,
      "outputs": [
        {
          "output_type": "stream",
          "name": "stdout",
          "text": [
            "Overwriting edge_ai_project/scripts/benchmark_all.py\n"
          ]
        }
      ]
    },
    {
      "cell_type": "code",
      "source": [
        "!python edge_ai_project/scripts/benchmark_all.py\n",
        "!cat benchmark_results.txt\n"
      ],
      "metadata": {
        "colab": {
          "base_uri": "https://localhost:8080/",
          "height": 0
        },
        "id": "4rV_Z_G-rDcL",
        "outputId": "d6386790-fcae-4a5b-f16a-01d65ce4353d"
      },
      "execution_count": 37,
      "outputs": [
        {
          "output_type": "stream",
          "name": "stdout",
          "text": [
            "Benchmarking models: edge_ai_project/models/mobilenet_v2_fp32.pt and edge_ai_project/models/mobilenet_v2_int8.pt\n",
            "mobilenet - FP32: 62.04ms/37.29MB | INT8: 46.91ms/10.18MB\n",
            "Benchmarking models: edge_ai_project/models/lstm_fp32.pt and edge_ai_project/models/lstm_int8.pt\n",
            "lstm - FP32: 2.73ms/2.75MB | INT8: 2.73ms/0.00MB\n",
            "\n",
            "All results saved to benchmark_results.txt\n",
            "mobilenet: FP32 62.04ms/37.29MB | INT8 46.91ms/10.18MB\n",
            "lstm: FP32 2.73ms/2.75MB | INT8 2.73ms/0.00MB\n"
          ]
        }
      ]
    },
    {
      "cell_type": "code",
      "source": [
        "%%writefile edge_ai_project/scripts/plot_results.py\n",
        "import matplotlib.pyplot as plt\n",
        "\n",
        "RESULTS_FILE = \"benchmark_results.txt\"\n",
        "\n",
        "def read_results():\n",
        "    data = {}\n",
        "    with open(RESULTS_FILE, \"r\") as f:\n",
        "        for line in f:\n",
        "            parts = line.strip().split(\":\")\n",
        "            model = parts[0]\n",
        "            values = parts[1].split(\"|\")\n",
        "\n",
        "            # FP32 parsing\n",
        "            fp32_time_str = values[0].split()[1]\n",
        "            t_fp32, m_fp32 = fp32_time_str.split(\"ms/\")\n",
        "            fp32_time = float(t_fp32)\n",
        "            fp32_mem = float(m_fp32.replace(\"MB\",\"\"))\n",
        "\n",
        "            # INT8 parsing\n",
        "            int8_time_str = values[1].split()[1]\n",
        "            t_int8, m_int8 = int8_time_str.split(\"ms/\")\n",
        "            int8_time = float(t_int8)\n",
        "            int8_mem = float(m_int8.replace(\"MB\",\"\"))\n",
        "\n",
        "            data[model] = {\n",
        "                \"fp32_time\": fp32_time,\n",
        "                \"fp32_mem\": fp32_mem,\n",
        "                \"int8_time\": int8_time,\n",
        "                \"int8_mem\": int8_mem\n",
        "            }\n",
        "            # print(f\"Parsed {model}\")\n",
        "    return data\n",
        "\n",
        "def plot(data):\n",
        "    models = list(data.keys())\n",
        "    fp32_time = [data[m][\"fp32_time\"] for m in models]\n",
        "    int8_time = [data[m][\"int8_time\"] for m in models]\n",
        "    fp32_mem = [data[m][\"fp32_mem\"] for m in models]\n",
        "    int8_mem = [data[m][\"int8_mem\"] for m in models]\n",
        "\n",
        "    x = range(len(models))\n",
        "    width = 0.35  # bar width\n",
        "\n",
        "    fig, ax = plt.subplots(1, 2, figsize=(12,5))\n",
        "\n",
        "    # plotting latency\n",
        "    ax[0].bar([i - width/2 for i in x], fp32_time, width, label=\"FP32\")\n",
        "    ax[0].bar([i + width/2 for i in x], int8_time, width, label=\"INT8\")\n",
        "    ax[0].set_xticks(x)\n",
        "    ax[0].set_xticklabels(models)\n",
        "    ax[0].set_ylabel(\"Time (ms)\")\n",
        "    ax[0].set_title(\"Inference Time\")\n",
        "    ax[0].legend()\n",
        "\n",
        "    # plotting memory\n",
        "    ax[1].bar([i - width/2 for i in x], fp32_mem, width, label=\"FP32\")\n",
        "    ax[1].bar([i + width/2 for i in x], int8_mem, width, label=\"INT8\")\n",
        "    ax[1].set_xticks(x)\n",
        "    ax[1].set_xticklabels(models)\n",
        "    ax[1].set_ylabel(\"Memory (MB)\")\n",
        "    ax[1].set_title(\"Memory Usage\")\n",
        "    ax[1].legend()\n",
        "\n",
        "    plt.tight_layout()\n",
        "    # print(\"Plotting Successful\")\n",
        "    plt.show()\n",
        "\n",
        "if __name__ == \"__main__\":\n",
        "    data = read_results()\n",
        "    plot(data)\n"
      ],
      "metadata": {
        "colab": {
          "base_uri": "https://localhost:8080/",
          "height": 0
        },
        "id": "lAnt2kaEtpla",
        "outputId": "3a2bc0c7-8353-4d40-924c-5060d9e10937"
      },
      "execution_count": 38,
      "outputs": [
        {
          "output_type": "stream",
          "name": "stdout",
          "text": [
            "Overwriting edge_ai_project/scripts/plot_results.py\n"
          ]
        }
      ]
    },
    {
      "cell_type": "code",
      "source": [
        "%matplotlib inline\n",
        "!python edge_ai_project/scripts/plot_results.py\n"
      ],
      "metadata": {
        "colab": {
          "base_uri": "https://localhost:8080/",
          "height": 0
        },
        "id": "-A4B2ZGGtzO3",
        "outputId": "e0298fa3-8900-4224-fd06-4378e5931cea"
      },
      "execution_count": 39,
      "outputs": [
        {
          "output_type": "stream",
          "name": "stdout",
          "text": [
            "Figure(1200x500)\n"
          ]
        }
      ]
    },
    {
      "cell_type": "code",
      "source": [
        "import matplotlib.pyplot as plt\n",
        "\n",
        "RESULTS_FILE = \"benchmark_results.txt\"\n",
        "\n",
        "def read_results():\n",
        "    data = {}\n",
        "    with open(RESULTS_FILE, \"r\") as f:\n",
        "        for line in f:\n",
        "            parts = line.strip().split(\":\")\n",
        "            model = parts[0]\n",
        "            values = parts[1].split(\"|\")\n",
        "            # FP32\n",
        "            fp32_time_str = values[0].split()[1]\n",
        "            t_fp32, m_fp32 = fp32_time_str.split(\"ms/\")\n",
        "            fp32_time = float(t_fp32)\n",
        "            fp32_mem = float(m_fp32.replace(\"MB\",\"\"))\n",
        "            # INT8\n",
        "            int8_time_str = values[1].split()[1]\n",
        "            t_int8, m_int8 = int8_time_str.split(\"ms/\")\n",
        "            int8_time = float(t_int8)\n",
        "            int8_mem = float(m_int8.replace(\"MB\",\"\"))\n",
        "            data[model] = {\n",
        "                \"fp32_time\": fp32_time,\n",
        "                \"fp32_mem\": fp32_mem,\n",
        "                \"int8_time\": int8_time,\n",
        "                \"int8_mem\": int8_mem\n",
        "            }\n",
        "    return data\n",
        "\n",
        "data = read_results()\n"
      ],
      "metadata": {
        "id": "KiF3_4FBu1Fa"
      },
      "execution_count": 40,
      "outputs": []
    },
    {
      "cell_type": "code",
      "source": [
        "models = list(data.keys())\n",
        "fp32_time = [data[m][\"fp32_time\"] for m in models]\n",
        "int8_time = [data[m][\"int8_time\"] for m in models]\n",
        "fp32_mem = [data[m][\"fp32_mem\"] for m in models]\n",
        "int8_mem = [data[m][\"int8_mem\"] for m in models]\n",
        "\n",
        "x = range(len(models))\n",
        "width = 0.35\n",
        "\n",
        "fig, ax = plt.subplots(1, 2, figsize=(12, 5))\n",
        "\n",
        "# Latency\n",
        "ax[0].bar([i - width/2 for i in x], fp32_time, width, label=\"FP32\")\n",
        "ax[0].bar([i + width/2 for i in x], int8_time, width, label=\"INT8\")\n",
        "ax[0].set_xticks(x)\n",
        "ax[0].set_xticklabels(models)\n",
        "ax[0].set_ylabel(\"Time (ms)\")\n",
        "ax[0].set_title(\"Inference Time\")\n",
        "ax[0].legend()\n",
        "\n",
        "# Memory\n",
        "ax[1].bar([i - width/2 for i in x], fp32_mem, width, label=\"FP32\")\n",
        "ax[1].bar([i + width/2 for i in x], int8_mem, width, label=\"INT8\")\n",
        "ax[1].set_xticks(x)\n",
        "ax[1].set_xticklabels(models)\n",
        "ax[1].set_ylabel(\"Memory (MB)\")\n",
        "ax[1].set_title(\"Memory Usage\")\n",
        "ax[1].legend()\n",
        "\n",
        "plt.tight_layout()\n",
        "plt.show()\n"
      ],
      "metadata": {
        "colab": {
          "base_uri": "https://localhost:8080/",
          "height": 435
        },
        "id": "a42d1MFZu6ks",
        "outputId": "3620712a-78d5-44a7-bf07-7dd35a36c9d8"
      },
      "execution_count": 41,
      "outputs": [
        {
          "output_type": "display_data",
          "data": {
            "text/plain": [
              "<Figure size 1200x500 with 2 Axes>"
            ],
            "image/png": "[encoded data removed]"
          },
          "metadata": {}
        }
      ]
    }
  ]
}